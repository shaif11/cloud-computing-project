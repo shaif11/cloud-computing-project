#import libraries
import numpy as np
import pandas as pd
import matplotlib.pyplot as plt

path = r"https://drive.google.com/uc?export=download&id=13ZTYmL3E8S0nz-UKl4aaTZJaI3DVBGHM"
df  = pd.read_csv(path)

df.head()

df.tail()

df.shape

df.info()

df.describe()

plt.scatter(x =df.study_hours, y = df.student_marks)

