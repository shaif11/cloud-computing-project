#import libraries
import numpy as np
import pandas as pd
import matplotlib.pyplot as plt

path = r"https://drive.google.com/uc?export=download&id=13ZTYmL3E8S0nz-UKl4aaTZJaI3DVBGHM"
df  = pd.read_csv(path)

df.head()

df.tail()

df.shape

df.info()

df.describe()

plt.scatter(x =df.study_hours, y = df.student_marks)
plt.xlabel("Students Study Hours")
plt.ylabel("Students marks")
plt.title("Scatter Plot of Students Study Hours vs Students marks")
plt.show()

df.isnull().sum()

df.mean()

df2 = df.fillna(df.mean())

df2.isnull().sum()

df2.head()

X = df2.drop("student_marks", axis = "columns")
y = df2.drop("study_hours", axis = "columns")
print("shape of X = ", X.shape)
print("shape of y = ", y.shape)

